{
 "cells": [
  {
   "cell_type": "code",
   "execution_count": 14,
   "metadata": {},
   "outputs": [],
   "source": [
    "import unidecode\n",
    "import re\n",
    "import pandas, numpy, string\n",
    "from sklearn import model_selection, preprocessing, metrics, naive_bayes, svm, decomposition, ensemble"
   ]
  },
  {
   "cell_type": "code",
   "execution_count": 15,
   "metadata": {},
   "outputs": [],
   "source": [
    "data = pandas.read_csv(\"../data/train.csv\")\n",
    "array = data.values\n",
    "X = array[:, 1]\n",
    "y = array[:, 0]"
   ]
  },
  {
   "cell_type": "code",
   "execution_count": 16,
   "metadata": {
    "tags": []
   },
   "outputs": [],
   "source": [
    "df = pandas.DataFrame()\n",
    "df[\"sentence\"] = X\n",
    "df[\"emotion\"] = y\n",
    "\n",
    "x_train, x_test, y_train, y_test = model_selection.train_test_split(df[\"sentence\"], df[\"emotion\"])\n",
    "\n",
    "encoder = preprocessing.LabelEncoder()\n",
    "y_train = encoder.fit_transform(y_train)\n",
    "y_test = encoder.fit_transform(y_test)"
   ]
  },
  {
   "cell_type": "code",
   "execution_count": 17,
   "metadata": {},
   "outputs": [],
   "source": [
    "# Count Vector\n",
    "from sklearn.feature_extraction.text import CountVectorizer\n",
    "cv = CountVectorizer(analyzer=\"word\", token_pattern=r\"\\w{1,}\")\n",
    "cv.fit(df[\"sentence\"])\n",
    "x_train_count = cv.transform(x_train)\n",
    "x_test_count = cv.transform(x_test)\n"
   ]
  },
  {
   "cell_type": "code",
   "execution_count": 18,
   "metadata": {},
   "outputs": [],
   "source": [
    "# TF-IDF WORD\n",
    "from sklearn.feature_extraction.text import TfidfVectorizer\n",
    "tv = TfidfVectorizer(analyzer=\"word\", token_pattern=r\"\\w{1,}\")\n",
    "tv.fit(df[\"sentence\"])\n",
    "x_train_tfidf = tv.transform(x_train)\n",
    "x_Test_tfidf = tv.transform(x_test)"
   ]
  },
  {
   "cell_type": "code",
   "execution_count": 19,
   "metadata": {},
   "outputs": [],
   "source": [
    "from joblib import dump, load\n",
    "def train_model(classifier, feature_vector_train, label, feature_vector_test, is_neural_net=False):\n",
    "    classifier.fit(feature_vector_train, label)\n",
    "    predictions = classifier.predict(feature_vector_test)\n",
    "\n",
    "    if is_neural_net:\n",
    "        predictions = predictions.argmax(axis=-1)\n",
    "        \n",
    "\n",
    "    # return metrics.f1_score(predictions, y_test, average='weighted')\n",
    "    return metrics.accuracy_score(predictions, y_test)"
   ]
  },
  {
   "cell_type": "code",
   "execution_count": 20,
   "metadata": {
    "tags": []
   },
   "outputs": [
    {
     "output_type": "stream",
     "name": "stdout",
     "text": "0.5147801009372747\n"
    }
   ],
   "source": [
    "# Linear SVC\n",
    "accuracy = train_model(svm.LinearSVC(), x_train_tfidf, y_train, x_Test_tfidf)\n",
    "print(accuracy)"
   ]
  },
  {
   "cell_type": "code",
   "execution_count": 21,
   "metadata": {
    "tags": []
   },
   "outputs": [
    {
     "output_type": "stream",
     "name": "stdout",
     "text": "0.4830569574621485\n"
    }
   ],
   "source": [
    "# Naive Bayes\n",
    "accuracy = train_model(naive_bayes.MultinomialNB(), x_train_count, y_train, x_test_count)\n",
    "print(accuracy)"
   ]
  },
  {
   "cell_type": "code",
   "execution_count": 22,
   "metadata": {
    "tags": []
   },
   "outputs": [
    {
     "output_type": "stream",
     "name": "stdout",
     "text": "0.5025234318673396\n"
    }
   ],
   "source": [
    "# Random Forest\n",
    "accuracy = train_model(ensemble.RandomForestClassifier(), x_train_count, y_train, x_test_count)\n",
    "print(accuracy)"
   ]
  },
  {
   "cell_type": "code",
   "execution_count": null,
   "metadata": {},
   "outputs": [],
   "source": []
  }
 ],
 "metadata": {
  "language_info": {
   "codemirror_mode": {
    "name": "ipython",
    "version": 3
   },
   "file_extension": ".py",
   "mimetype": "text/x-python",
   "name": "python",
   "nbconvert_exporter": "python",
   "pygments_lexer": "ipython3",
   "version": "3.7.7-final"
  },
  "orig_nbformat": 2,
  "kernelspec": {
   "name": "python3",
   "display_name": "Python 3"
  }
 },
 "nbformat": 4,
 "nbformat_minor": 2
}